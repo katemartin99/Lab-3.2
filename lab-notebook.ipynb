{
 "cells": [
  {
   "cell_type": "code",
   "execution_count": 37,
   "id": "5daa1cae-bc63-41ce-a6f4-0dcaaae3ed1c",
   "metadata": {},
   "outputs": [],
   "source": [
    "import polars as pl"
   ]
  },
  {
   "cell_type": "code",
   "execution_count": 56,
   "id": "6db6930a-2457-4ccb-ae18-161366657a63",
   "metadata": {},
   "outputs": [
    {
     "data": {
      "text/html": [
       "<div><style>\n",
       ".dataframe > thead > tr,\n",
       ".dataframe > tbody > tr {\n",
       "  text-align: right;\n",
       "  white-space: pre-wrap;\n",
       "}\n",
       "</style>\n",
       "<small>shape: (5, 5)</small><table border=\"1\" class=\"dataframe\"><thead><tr><th>Question</th><th>Construct</th><th>Question # on Qualtrics Survey</th><th>Needs Reverse Coding?</th><th>Column Name</th></tr><tr><td>str</td><td>i64</td><td>i64</td><td>str</td><td>str</td></tr></thead><tbody><tr><td>&quot;In the future, I plan to parti…</td><td>1</td><td>1</td><td>&quot;No&quot;</td><td>&quot;F1&quot;</td></tr><tr><td>&quot;Individuals are responsible fo…</td><td>5</td><td>2</td><td>&quot;Yes&quot;</td><td>&quot;F5&quot;</td></tr><tr><td>&quot;When tryng to understand the p…</td><td>2</td><td>3</td><td>&quot;No&quot;</td><td>&quot;F2&quot;</td></tr><tr><td>&quot;I plan to become involved in m…</td><td>1</td><td>4</td><td>&quot;No&quot;</td><td>&quot;F1.1&quot;</td></tr><tr><td>&quot;I can communicate well with ot…</td><td>2</td><td>5</td><td>&quot;No&quot;</td><td>&quot;F2.1&quot;</td></tr></tbody></table></div>"
      ],
      "text/plain": [
       "shape: (5, 5)\n",
       "┌─────────────────────────────┬───────────┬──────────────────┬───────────────────────┬─────────────┐\n",
       "│ Question                    ┆ Construct ┆ Question # on    ┆ Needs Reverse Coding? ┆ Column Name │\n",
       "│ ---                         ┆ ---       ┆ Qualtrics Survey ┆ ---                   ┆ ---         │\n",
       "│ str                         ┆ i64       ┆ ---              ┆ str                   ┆ str         │\n",
       "│                             ┆           ┆ i64              ┆                       ┆             │\n",
       "╞═════════════════════════════╪═══════════╪══════════════════╪═══════════════════════╪═════════════╡\n",
       "│ In the future, I plan to    ┆ 1         ┆ 1                ┆ No                    ┆ F1          │\n",
       "│ parti…                      ┆           ┆                  ┆                       ┆             │\n",
       "│ Individuals are responsible ┆ 5         ┆ 2                ┆ Yes                   ┆ F5          │\n",
       "│ fo…                         ┆           ┆                  ┆                       ┆             │\n",
       "│ When tryng to understand    ┆ 2         ┆ 3                ┆ No                    ┆ F2          │\n",
       "│ the p…                      ┆           ┆                  ┆                       ┆             │\n",
       "│ I plan to become involved   ┆ 1         ┆ 4                ┆ No                    ┆ F1.1        │\n",
       "│ in m…                       ┆           ┆                  ┆                       ┆             │\n",
       "│ I can communicate well with ┆ 2         ┆ 5                ┆ No                    ┆ F2.1        │\n",
       "│ ot…                         ┆           ┆                  ┆                       ┆             │\n",
       "└─────────────────────────────┴───────────┴──────────────────┴───────────────────────┴─────────────┘"
      ]
     },
     "execution_count": 56,
     "metadata": {},
     "output_type": "execute_result"
    }
   ],
   "source": [
    "reverse_table = pl.read_csv(\"./data/ReverseCodingItems.csv\")\n",
    "\n",
    "reverse_table.head()\n"
   ]
  },
  {
   "cell_type": "code",
   "execution_count": 60,
   "id": "1a3c1d9d-80c2-4f18-8deb-3701c283a2ca",
   "metadata": {},
   "outputs": [
    {
     "data": {
      "text/plain": [
       "{'F1': 'F1_reg',\n",
       " 'F5': 'F5_rev',\n",
       " 'F2': 'F2_reg',\n",
       " 'F1.1': 'F1.1_reg',\n",
       " 'F2.1': 'F2.1_reg',\n",
       " 'F6': 'F6_rev',\n",
       " 'F4': 'F4_reg',\n",
       " 'F3': 'F3_reg',\n",
       " 'F5.1': 'F5.1_reg',\n",
       " 'F1.2': 'F1.2_reg',\n",
       " 'F2.2': 'F2.2_reg',\n",
       " 'F6.1': 'F6.1_reg',\n",
       " 'F2.3': 'F2.3_reg',\n",
       " 'F4.1': 'F4.1_rev',\n",
       " 'F2.4': 'F2.4_reg',\n",
       " 'F5.2': 'F5.2_rev',\n",
       " 'F2.5': 'F2.5_reg',\n",
       " 'F6.2': 'F6.2_reg',\n",
       " 'F1.3': 'F1.3_reg',\n",
       " 'F2.6': 'F2.6_reg',\n",
       " 'F5.3': 'F5.3_reg',\n",
       " 'F4.2': 'F4.2_reg',\n",
       " 'F2.7': 'F2.7_reg',\n",
       " 'F3.1': 'F3.1_reg',\n",
       " 'F2.8': 'F2.8_reg',\n",
       " 'F5.4': 'F5.4_reg',\n",
       " 'F3.2': 'F3.2_reg',\n",
       " 'F1.4': 'F1.4_reg',\n",
       " 'F3.3': 'F3.3_reg',\n",
       " 'F1.5': 'F1.5_reg',\n",
       " 'F5.5': 'F5.5_rev',\n",
       " 'F6.3': 'F6.3_rev',\n",
       " 'F1.6': 'F1.6_reg',\n",
       " 'F5.6': 'F5.6_rev',\n",
       " 'F2.9': 'F2.9_reg',\n",
       " 'F3.4': 'F3.4_reg',\n",
       " 'F4.3': 'F4.3_rev',\n",
       " 'F2.10': 'F2.10_reg',\n",
       " 'F1.7': 'F1.7_reg',\n",
       " 'F6.4': 'F6.4_rev',\n",
       " 'F4.4': 'F4.4_reg',\n",
       " 'F5.7': 'F5.7_reg',\n",
       " 'F3.5': 'F3.5_reg',\n",
       " 'F2.11': 'F2.11_reg'}"
      ]
     },
     "execution_count": 60,
     "metadata": {},
     "output_type": "execute_result"
    }
   ],
   "source": [
    "rename_dict = {\n",
    "    col: f\"{col}_{'rev' if rev.lower() == 'yes' else 'reg'}\"\n",
    "    for col, rev in zip(\n",
    "        reverse_table[\"Column Name\"], \n",
    "        reverse_table[\"Needs Reverse Coding?\"]\n",
    "    )\n",
    "}\n",
    "\n",
    "rename_dict"
   ]
  },
  {
   "cell_type": "code",
   "execution_count": 62,
   "id": "22d88dc6-896e-441b-afed-d5241c96f106",
   "metadata": {},
   "outputs": [
    {
     "data": {
      "text/html": [
       "<div><style>\n",
       ".dataframe > thead > tr,\n",
       ".dataframe > tbody > tr {\n",
       "  text-align: right;\n",
       "  white-space: pre-wrap;\n",
       "}\n",
       "</style>\n",
       "<small>shape: (5, 45)</small><table border=\"1\" class=\"dataframe\"><thead><tr><th>ID</th><th>F1_reg</th><th>F5_rev</th><th>F2_reg</th><th>F1.1_reg</th><th>F2.1_reg</th><th>F6_rev</th><th>F4_reg</th><th>F3_reg</th><th>F5.1_reg</th><th>F1.2_reg</th><th>F2.2_reg</th><th>F6.1_reg</th><th>F2.3_reg</th><th>F4.1_rev</th><th>F2.4_reg</th><th>F5.2_rev</th><th>F2.5_reg</th><th>F6.2_reg</th><th>F1.3_reg</th><th>F2.6_reg</th><th>F5.3_reg</th><th>F4.2_reg</th><th>F2.7_reg</th><th>F3.1_reg</th><th>F2.8_reg</th><th>F5.4_reg</th><th>F3.2_reg</th><th>F1.4_reg</th><th>F3.3_reg</th><th>F1.5_reg</th><th>F5.5_rev</th><th>F6.3_rev</th><th>F1.6_reg</th><th>F5.6_rev</th><th>F2.9_reg</th><th>F3.4_reg</th><th>F4.3_rev</th><th>F2.10_reg</th><th>F1.7_reg</th><th>F6.4_rev</th><th>F4.4_reg</th><th>F5.7_reg</th><th>F3.5_reg</th><th>F2.11_reg</th></tr><tr><td>i64</td><td>str</td><td>str</td><td>str</td><td>str</td><td>str</td><td>str</td><td>str</td><td>str</td><td>str</td><td>str</td><td>str</td><td>str</td><td>str</td><td>str</td><td>str</td><td>str</td><td>str</td><td>str</td><td>str</td><td>str</td><td>str</td><td>str</td><td>str</td><td>str</td><td>str</td><td>str</td><td>str</td><td>str</td><td>str</td><td>str</td><td>str</td><td>str</td><td>str</td><td>str</td><td>str</td><td>str</td><td>str</td><td>str</td><td>str</td><td>str</td><td>str</td><td>str</td><td>str</td><td>str</td></tr></thead><tbody><tr><td>1</td><td>&quot;Somewhat Agree&quot;</td><td>&quot;Somewhat Disagree&quot;</td><td>&quot;Somewhat Agree&quot;</td><td>&quot;Somewhat Agree&quot;</td><td>&quot;Somewhat Agree&quot;</td><td>&quot;Somewhat Disagree&quot;</td><td>&quot;Somewhat Agree&quot;</td><td>&quot;Somewhat Agree&quot;</td><td>&quot;Somewhat Agree&quot;</td><td>&quot;Somewhat Agree&quot;</td><td>&quot;Somewhat Agree&quot;</td><td>&quot;Somewhat Agree&quot;</td><td>&quot;Somewhat Agree&quot;</td><td>&quot;Somewhat Agree&quot;</td><td>&quot;Somewhat Agree&quot;</td><td>&quot;Somewhat Agree&quot;</td><td>&quot;Somewhat Agree&quot;</td><td>&quot;Somewhat Agree&quot;</td><td>&quot;Somewhat Agree&quot;</td><td>&quot;Somewhat Agree&quot;</td><td>&quot;Somewhat Agree&quot;</td><td>&quot;Somewhat Agree&quot;</td><td>&quot;Somewhat Agree&quot;</td><td>&quot;Somewhat Disagree&quot;</td><td>&quot;Somewhat Agree&quot;</td><td>&quot;Somewhat Agree&quot;</td><td>&quot;Somewhat Agree&quot;</td><td>&quot;Neither Agree nor Disagree&quot;</td><td>&quot;Somewhat Agree&quot;</td><td>&quot;Somewhat Agree&quot;</td><td>&quot;Somewhat Disagree&quot;</td><td>&quot;Somewhat Disagree&quot;</td><td>&quot;Somewhat Agree&quot;</td><td>&quot;Somewhat Agree&quot;</td><td>&quot;Somewhat Agree&quot;</td><td>&quot;Somewhat Disagree&quot;</td><td>&quot;Neither Agree nor Disagree&quot;</td><td>&quot;Somewhat Agree&quot;</td><td>&quot;Somewhat Agree&quot;</td><td>&quot;Somewhat Agree&quot;</td><td>&quot;Somewhat Agree&quot;</td><td>&quot;Somewhat Agree&quot;</td><td>&quot;Somewhat Agree&quot;</td><td>&quot;Somewhat Agree&quot;</td></tr><tr><td>2</td><td>&quot;Somewhat Agree&quot;</td><td>&quot;Somewhat Disagree&quot;</td><td>&quot;Somewhat Agree&quot;</td><td>&quot;Somewhat Agree&quot;</td><td>&quot;Somewhat Agree&quot;</td><td>&quot;Somewhat Disagree&quot;</td><td>&quot;Somewhat Agree&quot;</td><td>&quot;Neither Agree nor Disagree&quot;</td><td>&quot;Neither Agree nor Disagree&quot;</td><td>&quot;Somewhat Agree&quot;</td><td>&quot;Neither Agree nor Disagree&quot;</td><td>&quot;Somewhat Agree&quot;</td><td>&quot;Somewhat Agree&quot;</td><td>&quot;Neither Agree nor Disagree&quot;</td><td>&quot;Somewhat Agree&quot;</td><td>&quot;Somewhat Agree&quot;</td><td>&quot;Somewhat Agree&quot;</td><td>&quot;Somewhat Agree&quot;</td><td>&quot;Somewhat Agree&quot;</td><td>&quot;Somewhat Agree&quot;</td><td>&quot;Somewhat Agree&quot;</td><td>&quot;Somewhat Agree&quot;</td><td>&quot;Somewhat Agree&quot;</td><td>&quot;Neither Agree nor Disagree&quot;</td><td>&quot;Somewhat Agree&quot;</td><td>&quot;Neither Agree nor Disagree&quot;</td><td>&quot;Neither Agree nor Disagree&quot;</td><td>&quot;Somewhat Agree&quot;</td><td>&quot;Neither Agree nor Disagree&quot;</td><td>&quot;Neither Agree nor Disagree&quot;</td><td>&quot;Neither Agree nor Disagree&quot;</td><td>&quot;Somewhat Disagree&quot;</td><td>&quot;Somewhat Agree&quot;</td><td>&quot;Somewhat Disagree&quot;</td><td>&quot;Somewhat Agree&quot;</td><td>&quot;Somewhat Agree&quot;</td><td>&quot;Neither Agree nor Disagree&quot;</td><td>&quot;Somewhat Agree&quot;</td><td>&quot;Somewhat Agree&quot;</td><td>&quot;Somewhat Disagree&quot;</td><td>&quot;Neither Agree nor Disagree&quot;</td><td>&quot;Somewhat Agree&quot;</td><td>&quot;Neither Agree nor Disagree&quot;</td><td>&quot;Somewhat Agree&quot;</td></tr><tr><td>3</td><td>&quot;Strongly Agree&quot;</td><td>&quot;Neither Agree nor Disagree&quot;</td><td>&quot;Somewhat Agree&quot;</td><td>&quot;Strongly Agree&quot;</td><td>&quot;Strongly Agree&quot;</td><td>&quot;Somewhat Disagree&quot;</td><td>&quot;Somewhat Agree&quot;</td><td>&quot;Somewhat Agree&quot;</td><td>&quot;Somewhat Agree&quot;</td><td>&quot;Strongly Agree&quot;</td><td>&quot;Somewhat Agree&quot;</td><td>&quot;Neither Agree nor Disagree&quot;</td><td>&quot;Somewhat Agree&quot;</td><td>&quot;Neither Agree nor Disagree&quot;</td><td>&quot;Somewhat Agree&quot;</td><td>&quot;Somewhat Disagree&quot;</td><td>&quot;Strongly Agree&quot;</td><td>&quot;Somewhat Agree&quot;</td><td>&quot;Strongly Agree&quot;</td><td>&quot;Somewhat Agree&quot;</td><td>&quot;Somewhat Agree&quot;</td><td>&quot;Somewhat Agree&quot;</td><td>null</td><td>&quot;Somewhat Disagree&quot;</td><td>&quot;Somewhat Agree&quot;</td><td>&quot;Somewhat Agree&quot;</td><td>&quot;Somewhat Agree&quot;</td><td>&quot;Somewhat Disagree&quot;</td><td>&quot;Somewhat Agree&quot;</td><td>&quot;Strongly Agree&quot;</td><td>&quot;Somewhat Disagree&quot;</td><td>&quot;Somewhat Disagree&quot;</td><td>&quot;Strongly Agree&quot;</td><td>&quot;Somewhat Disagree&quot;</td><td>&quot;Somewhat Agree&quot;</td><td>&quot;Somewhat Agree&quot;</td><td>&quot;Neither Agree nor Disagree&quot;</td><td>&quot;Somewhat Agree&quot;</td><td>&quot;Somewhat Agree&quot;</td><td>&quot;Somewhat Agree&quot;</td><td>&quot;Somewhat Agree&quot;</td><td>&quot;Strongly Agree&quot;</td><td>&quot;Strongly Disagree&quot;</td><td>&quot;Somewhat Agree&quot;</td></tr><tr><td>4</td><td>&quot;Somewhat Agree&quot;</td><td>&quot;Somewhat Agree&quot;</td><td>&quot;Strongly Agree&quot;</td><td>&quot;Somewhat Agree&quot;</td><td>&quot;Strongly Agree&quot;</td><td>&quot;Neither Agree nor Disagree&quot;</td><td>&quot;Neither Agree nor Disagree&quot;</td><td>&quot;Somewhat Disagree&quot;</td><td>&quot;Somewhat Agree&quot;</td><td>&quot;Strongly Agree&quot;</td><td>&quot;Strongly Agree&quot;</td><td>&quot;Somewhat Agree&quot;</td><td>&quot;Somewhat Agree&quot;</td><td>&quot;Neither Agree nor Disagree&quot;</td><td>&quot;Strongly Agree&quot;</td><td>&quot;Somewhat Disagree&quot;</td><td>&quot;Strongly Agree&quot;</td><td>&quot;Somewhat Agree&quot;</td><td>&quot;Somewhat Agree&quot;</td><td>&quot;Strongly Agree&quot;</td><td>&quot;Somewhat Agree&quot;</td><td>&quot;Somewhat Agree&quot;</td><td>&quot;Somewhat Agree&quot;</td><td>&quot;Somewhat Disagree&quot;</td><td>&quot;Somewhat Agree&quot;</td><td>&quot;Somewhat Agree&quot;</td><td>&quot;Somewhat Disagree&quot;</td><td>&quot;Neither Agree nor Disagree&quot;</td><td>&quot;Somewhat Disagree&quot;</td><td>&quot;Somewhat Agree&quot;</td><td>&quot;Somewhat Disagree&quot;</td><td>&quot;Somewhat Agree&quot;</td><td>&quot;Strongly Agree&quot;</td><td>&quot;Somewhat Disagree&quot;</td><td>&quot;Somewhat Agree&quot;</td><td>&quot;Somewhat Disagree&quot;</td><td>&quot;Somewhat Agree&quot;</td><td>&quot;Somewhat Agree&quot;</td><td>&quot;Neither Agree nor Disagree&quot;</td><td>&quot;Neither Agree nor Disagree&quot;</td><td>&quot;Neither Agree nor Disagree&quot;</td><td>&quot;Somewhat Agree&quot;</td><td>&quot;Somewhat Disagree&quot;</td><td>&quot;Somewhat Agree&quot;</td></tr><tr><td>5</td><td>&quot;Strongly Agree&quot;</td><td>&quot;Strongly Disagree&quot;</td><td>&quot;Neither Agree nor Disagree&quot;</td><td>&quot;Strongly Agree&quot;</td><td>&quot;Somewhat Agree&quot;</td><td>&quot;Strongly Disagree&quot;</td><td>&quot;Strongly Agree&quot;</td><td>&quot;Somewhat Agree&quot;</td><td>&quot;Neither Agree nor Disagree&quot;</td><td>&quot;Strongly Agree&quot;</td><td>&quot;Somewhat Agree&quot;</td><td>&quot;Somewhat Agree&quot;</td><td>&quot;Somewhat Disagree&quot;</td><td>&quot;Neither Agree nor Disagree&quot;</td><td>&quot;Somewhat Agree&quot;</td><td>&quot;Strongly Disagree&quot;</td><td>&quot;Strongly Agree&quot;</td><td>&quot;Strongly Agree&quot;</td><td>&quot;Strongly Agree&quot;</td><td>&quot;Strongly Agree&quot;</td><td>&quot;Strongly Agree&quot;</td><td>&quot;Somewhat Agree&quot;</td><td>&quot;Somewhat Agree&quot;</td><td>&quot;Somewhat Agree&quot;</td><td>&quot;Somewhat Agree&quot;</td><td>&quot;Neither Agree nor Disagree&quot;</td><td>&quot;Somewhat Agree&quot;</td><td>&quot;Somewhat Agree&quot;</td><td>&quot;Somewhat Agree&quot;</td><td>&quot;Somewhat Agree&quot;</td><td>&quot;Strongly Disagree&quot;</td><td>&quot;Neither Agree nor Disagree&quot;</td><td>&quot;Strongly Agree&quot;</td><td>&quot;Strongly Disagree&quot;</td><td>&quot;Somewhat Agree&quot;</td><td>&quot;Somewhat Agree&quot;</td><td>&quot;Neither Agree nor Disagree&quot;</td><td>&quot;Somewhat Agree&quot;</td><td>&quot;Somewhat Agree&quot;</td><td>&quot;Somewhat Agree&quot;</td><td>&quot;Somewhat Agree&quot;</td><td>&quot;Strongly Agree&quot;</td><td>&quot;Somewhat Disagree&quot;</td><td>&quot;Somewhat Agree&quot;</td></tr></tbody></table></div>"
      ],
      "text/plain": [
       "shape: (5, 45)\n",
       "┌─────┬────────────┬────────────┬────────────┬───┬────────────┬────────────┬───────────┬───────────┐\n",
       "│ ID  ┆ F1_reg     ┆ F5_rev     ┆ F2_reg     ┆ … ┆ F4.4_reg   ┆ F5.7_reg   ┆ F3.5_reg  ┆ F2.11_reg │\n",
       "│ --- ┆ ---        ┆ ---        ┆ ---        ┆   ┆ ---        ┆ ---        ┆ ---       ┆ ---       │\n",
       "│ i64 ┆ str        ┆ str        ┆ str        ┆   ┆ str        ┆ str        ┆ str       ┆ str       │\n",
       "╞═════╪════════════╪════════════╪════════════╪═══╪════════════╪════════════╪═══════════╪═══════════╡\n",
       "│ 1   ┆ Somewhat   ┆ Somewhat   ┆ Somewhat   ┆ … ┆ Somewhat   ┆ Somewhat   ┆ Somewhat  ┆ Somewhat  │\n",
       "│     ┆ Agree      ┆ Disagree   ┆ Agree      ┆   ┆ Agree      ┆ Agree      ┆ Agree     ┆ Agree     │\n",
       "│ 2   ┆ Somewhat   ┆ Somewhat   ┆ Somewhat   ┆ … ┆ Neither    ┆ Somewhat   ┆ Neither   ┆ Somewhat  │\n",
       "│     ┆ Agree      ┆ Disagree   ┆ Agree      ┆   ┆ Agree nor  ┆ Agree      ┆ Agree nor ┆ Agree     │\n",
       "│     ┆            ┆            ┆            ┆   ┆ Disagree   ┆            ┆ Disagree  ┆           │\n",
       "│ 3   ┆ Strongly   ┆ Neither    ┆ Somewhat   ┆ … ┆ Somewhat   ┆ Strongly   ┆ Strongly  ┆ Somewhat  │\n",
       "│     ┆ Agree      ┆ Agree nor  ┆ Agree      ┆   ┆ Agree      ┆ Agree      ┆ Disagree  ┆ Agree     │\n",
       "│     ┆            ┆ Disagree   ┆            ┆   ┆            ┆            ┆           ┆           │\n",
       "│ 4   ┆ Somewhat   ┆ Somewhat   ┆ Strongly   ┆ … ┆ Neither    ┆ Somewhat   ┆ Somewhat  ┆ Somewhat  │\n",
       "│     ┆ Agree      ┆ Agree      ┆ Agree      ┆   ┆ Agree nor  ┆ Agree      ┆ Disagree  ┆ Agree     │\n",
       "│     ┆            ┆            ┆            ┆   ┆ Disagree   ┆            ┆           ┆           │\n",
       "│ 5   ┆ Strongly   ┆ Strongly   ┆ Neither    ┆ … ┆ Somewhat   ┆ Strongly   ┆ Somewhat  ┆ Somewhat  │\n",
       "│     ┆ Agree      ┆ Disagree   ┆ Agree nor  ┆   ┆ Agree      ┆ Agree      ┆ Disagree  ┆ Agree     │\n",
       "│     ┆            ┆            ┆ Disagree   ┆   ┆            ┆            ┆           ┆           │\n",
       "└─────┴────────────┴────────────┴────────────┴───┴────────────┴────────────┴───────────┴───────────┘"
      ]
     },
     "execution_count": 62,
     "metadata": {},
     "output_type": "execute_result"
    }
   ],
   "source": [
    "survey = pl.read_csv(\"./data/health_survey.csv\").rename(rename_dict)\n",
    "survey.head()"
   ]
  },
  {
   "cell_type": "code",
   "execution_count": 68,
   "id": "66760e6f-f1d9-44c9-a894-3e55be704f5c",
   "metadata": {},
   "outputs": [
    {
     "data": {
      "text/html": [
       "<div><style>\n",
       ".dataframe > thead > tr,\n",
       ".dataframe > tbody > tr {\n",
       "  text-align: right;\n",
       "  white-space: pre-wrap;\n",
       "}\n",
       "</style>\n",
       "<small>shape: (5, 45)</small><table border=\"1\" class=\"dataframe\"><thead><tr><th>ID</th><th>F1_reg</th><th>F5_rev</th><th>F2_reg</th><th>F1.1_reg</th><th>F2.1_reg</th><th>F6_rev</th><th>F4_reg</th><th>F3_reg</th><th>F5.1_reg</th><th>F1.2_reg</th><th>F2.2_reg</th><th>F6.1_reg</th><th>F2.3_reg</th><th>F4.1_rev</th><th>F2.4_reg</th><th>F5.2_rev</th><th>F2.5_reg</th><th>F6.2_reg</th><th>F1.3_reg</th><th>F2.6_reg</th><th>F5.3_reg</th><th>F4.2_reg</th><th>F2.7_reg</th><th>F3.1_reg</th><th>F2.8_reg</th><th>F5.4_reg</th><th>F3.2_reg</th><th>F1.4_reg</th><th>F3.3_reg</th><th>F1.5_reg</th><th>F5.5_rev</th><th>F6.3_rev</th><th>F1.6_reg</th><th>F5.6_rev</th><th>F2.9_reg</th><th>F3.4_reg</th><th>F4.3_rev</th><th>F2.10_reg</th><th>F1.7_reg</th><th>F6.4_rev</th><th>F4.4_reg</th><th>F5.7_reg</th><th>F3.5_reg</th><th>F2.11_reg</th></tr><tr><td>i64</td><td>i64</td><td>i64</td><td>i64</td><td>i64</td><td>i64</td><td>i64</td><td>i64</td><td>i64</td><td>i64</td><td>i64</td><td>i64</td><td>i64</td><td>i64</td><td>i64</td><td>i64</td><td>i64</td><td>i64</td><td>i64</td><td>i64</td><td>i64</td><td>i64</td><td>i64</td><td>i64</td><td>i64</td><td>i64</td><td>i64</td><td>i64</td><td>i64</td><td>i64</td><td>i64</td><td>i64</td><td>i64</td><td>i64</td><td>i64</td><td>i64</td><td>i64</td><td>i64</td><td>i64</td><td>i64</td><td>i64</td><td>i64</td><td>i64</td><td>i64</td><td>i64</td></tr></thead><tbody><tr><td>1</td><td>5</td><td>5</td><td>5</td><td>5</td><td>5</td><td>5</td><td>5</td><td>5</td><td>5</td><td>5</td><td>5</td><td>5</td><td>5</td><td>3</td><td>5</td><td>3</td><td>5</td><td>5</td><td>5</td><td>5</td><td>5</td><td>5</td><td>5</td><td>3</td><td>5</td><td>5</td><td>5</td><td>4</td><td>5</td><td>5</td><td>5</td><td>5</td><td>5</td><td>3</td><td>5</td><td>3</td><td>4</td><td>5</td><td>5</td><td>3</td><td>5</td><td>5</td><td>5</td><td>5</td></tr><tr><td>2</td><td>5</td><td>5</td><td>5</td><td>5</td><td>5</td><td>5</td><td>5</td><td>4</td><td>4</td><td>5</td><td>4</td><td>5</td><td>5</td><td>4</td><td>5</td><td>3</td><td>5</td><td>5</td><td>5</td><td>5</td><td>5</td><td>5</td><td>5</td><td>4</td><td>5</td><td>4</td><td>4</td><td>5</td><td>4</td><td>4</td><td>4</td><td>5</td><td>5</td><td>5</td><td>5</td><td>5</td><td>4</td><td>5</td><td>5</td><td>5</td><td>4</td><td>5</td><td>4</td><td>5</td></tr><tr><td>3</td><td>7</td><td>4</td><td>5</td><td>7</td><td>7</td><td>5</td><td>5</td><td>5</td><td>5</td><td>7</td><td>5</td><td>4</td><td>5</td><td>4</td><td>5</td><td>5</td><td>7</td><td>5</td><td>7</td><td>5</td><td>5</td><td>5</td><td>0</td><td>3</td><td>5</td><td>5</td><td>5</td><td>3</td><td>5</td><td>7</td><td>5</td><td>5</td><td>7</td><td>5</td><td>5</td><td>5</td><td>4</td><td>5</td><td>5</td><td>3</td><td>5</td><td>7</td><td>1</td><td>5</td></tr><tr><td>4</td><td>5</td><td>3</td><td>7</td><td>5</td><td>7</td><td>4</td><td>4</td><td>3</td><td>5</td><td>7</td><td>7</td><td>5</td><td>5</td><td>4</td><td>7</td><td>5</td><td>7</td><td>5</td><td>5</td><td>7</td><td>5</td><td>5</td><td>5</td><td>3</td><td>5</td><td>5</td><td>3</td><td>4</td><td>3</td><td>5</td><td>5</td><td>3</td><td>7</td><td>5</td><td>5</td><td>3</td><td>3</td><td>5</td><td>4</td><td>4</td><td>4</td><td>5</td><td>3</td><td>5</td></tr><tr><td>5</td><td>7</td><td>7</td><td>4</td><td>7</td><td>5</td><td>7</td><td>7</td><td>5</td><td>4</td><td>7</td><td>5</td><td>5</td><td>3</td><td>4</td><td>5</td><td>7</td><td>7</td><td>7</td><td>7</td><td>7</td><td>7</td><td>5</td><td>5</td><td>5</td><td>5</td><td>4</td><td>5</td><td>5</td><td>5</td><td>5</td><td>7</td><td>4</td><td>7</td><td>7</td><td>5</td><td>5</td><td>4</td><td>5</td><td>5</td><td>3</td><td>5</td><td>7</td><td>3</td><td>5</td></tr></tbody></table></div>"
      ],
      "text/plain": [
       "shape: (5, 45)\n",
       "┌─────┬────────┬────────┬────────┬───┬──────────┬──────────┬──────────┬───────────┐\n",
       "│ ID  ┆ F1_reg ┆ F5_rev ┆ F2_reg ┆ … ┆ F4.4_reg ┆ F5.7_reg ┆ F3.5_reg ┆ F2.11_reg │\n",
       "│ --- ┆ ---    ┆ ---    ┆ ---    ┆   ┆ ---      ┆ ---      ┆ ---      ┆ ---       │\n",
       "│ i64 ┆ i64    ┆ i64    ┆ i64    ┆   ┆ i64      ┆ i64      ┆ i64      ┆ i64       │\n",
       "╞═════╪════════╪════════╪════════╪═══╪══════════╪══════════╪══════════╪═══════════╡\n",
       "│ 1   ┆ 5      ┆ 5      ┆ 5      ┆ … ┆ 5        ┆ 5        ┆ 5        ┆ 5         │\n",
       "│ 2   ┆ 5      ┆ 5      ┆ 5      ┆ … ┆ 4        ┆ 5        ┆ 4        ┆ 5         │\n",
       "│ 3   ┆ 7      ┆ 4      ┆ 5      ┆ … ┆ 5        ┆ 7        ┆ 1        ┆ 5         │\n",
       "│ 4   ┆ 5      ┆ 3      ┆ 7      ┆ … ┆ 4        ┆ 5        ┆ 3        ┆ 5         │\n",
       "│ 5   ┆ 7      ┆ 7      ┆ 4      ┆ … ┆ 5        ┆ 7        ┆ 3        ┆ 5         │\n",
       "└─────┴────────┴────────┴────────┴───┴──────────┴──────────┴──────────┴───────────┘"
      ]
     },
     "execution_count": 68,
     "metadata": {},
     "output_type": "execute_result"
    }
   ],
   "source": [
    "response_map = {\n",
    "    \"Strongly Disagree\": 1,\n",
    "    \"Disagree\": 2,\n",
    "    \"Somewhat Disagree\": 3,\n",
    "    \"Neither Agree nor Disagree\": 4,\n",
    "    \"Somewhat Agree\": 5,\n",
    "    \"Agree\": 6,\n",
    "    \"Strongly Agree\": 7\n",
    "}\n",
    "\n",
    "reg_cols = [c for c in survey.columns if c.endswith(\"_reg\")]\n",
    "rev_cols = [c for c in survey.columns if c.endswith(\"_rev\")]\n",
    "\n",
    "\n",
    "survey = survey.with_columns(\n",
    "    [pl.col(c).replace(response_map).cast(pl.Int64).fill_null(0).alias(c) for c in reg_cols] +\n",
    "    [(8 - pl.col(c).replace(response_map).cast(pl.Int64)).fill_null(0).alias(c) for c in rev_cols]\n",
    ")\n",
    "\n",
    "survey.head()\n"
   ]
  },
  {
   "cell_type": "code",
   "execution_count": 70,
   "id": "f796d214-39b7-4fc6-a63f-f676ffd0c92a",
   "metadata": {},
   "outputs": [
    {
     "data": {
      "text/html": [
       "<div><style>\n",
       ".dataframe > thead > tr,\n",
       ".dataframe > tbody > tr {\n",
       "  text-align: right;\n",
       "  white-space: pre-wrap;\n",
       "}\n",
       "</style>\n",
       "<small>shape: (5, 7)</small><table border=\"1\" class=\"dataframe\"><thead><tr><th>ID</th><th>F1_total</th><th>F2_total</th><th>F3_total</th><th>F4_total</th><th>F5_total</th><th>F6_total</th></tr><tr><td>i64</td><td>i64</td><td>i64</td><td>i64</td><td>i64</td><td>i64</td><td>i64</td></tr></thead><tbody><tr><td>1</td><td>39</td><td>60</td><td>26</td><td>22</td><td>36</td><td>23</td></tr><tr><td>2</td><td>39</td><td>59</td><td>25</td><td>22</td><td>35</td><td>25</td></tr><tr><td>3</td><td>50</td><td>59</td><td>24</td><td>23</td><td>41</td><td>22</td></tr><tr><td>4</td><td>42</td><td>72</td><td>18</td><td>20</td><td>38</td><td>21</td></tr><tr><td>5</td><td>50</td><td>61</td><td>28</td><td>25</td><td>50</td><td>26</td></tr></tbody></table></div>"
      ],
      "text/plain": [
       "shape: (5, 7)\n",
       "┌─────┬──────────┬──────────┬──────────┬──────────┬──────────┬──────────┐\n",
       "│ ID  ┆ F1_total ┆ F2_total ┆ F3_total ┆ F4_total ┆ F5_total ┆ F6_total │\n",
       "│ --- ┆ ---      ┆ ---      ┆ ---      ┆ ---      ┆ ---      ┆ ---      │\n",
       "│ i64 ┆ i64      ┆ i64      ┆ i64      ┆ i64      ┆ i64      ┆ i64      │\n",
       "╞═════╪══════════╪══════════╪══════════╪══════════╪══════════╪══════════╡\n",
       "│ 1   ┆ 39       ┆ 60       ┆ 26       ┆ 22       ┆ 36       ┆ 23       │\n",
       "│ 2   ┆ 39       ┆ 59       ┆ 25       ┆ 22       ┆ 35       ┆ 25       │\n",
       "│ 3   ┆ 50       ┆ 59       ┆ 24       ┆ 23       ┆ 41       ┆ 22       │\n",
       "│ 4   ┆ 42       ┆ 72       ┆ 18       ┆ 20       ┆ 38       ┆ 21       │\n",
       "│ 5   ┆ 50       ┆ 61       ┆ 28       ┆ 25       ┆ 50       ┆ 26       │\n",
       "└─────┴──────────┴──────────┴──────────┴──────────┴──────────┴──────────┘"
      ]
     },
     "execution_count": 70,
     "metadata": {},
     "output_type": "execute_result"
    }
   ],
   "source": [
    "def get_prefix(colname: str) -> str:\n",
    "    return colname.split(\"_\")[0].split(\".\")[0]  \n",
    "\n",
    "prefixes = sorted(set(get_prefix(c) for c in survey.columns if c.startswith(\"F\")))\n",
    "\n",
    "agg_exprs = [\n",
    "    pl.sum_horizontal([pl.col(c) for c in survey.columns if get_prefix(c) == prefix])\n",
    "      .alias(f\"{prefix}_total\")\n",
    "    for prefix in prefixes\n",
    "]\n",
    "survey_totals = survey.with_columns(agg_exprs)\n",
    "\n",
    "survey_totals = survey_totals.select([\"ID\"] + [f\"{p}_total\" for p in prefixes])\n",
    "\n",
    "survey_totals.head()\n",
    "\n"
   ]
  }
 ],
 "metadata": {
  "kernelspec": {
   "display_name": "Python 3 (ipykernel)",
   "language": "python",
   "name": "python3"
  },
  "language_info": {
   "codemirror_mode": {
    "name": "ipython",
    "version": 3
   },
   "file_extension": ".py",
   "mimetype": "text/x-python",
   "name": "python",
   "nbconvert_exporter": "python",
   "pygments_lexer": "ipython3",
   "version": "3.13.5"
  }
 },
 "nbformat": 4,
 "nbformat_minor": 5
}
